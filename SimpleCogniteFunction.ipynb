{
 "cells": [
  {
   "cell_type": "code",
   "execution_count": null,
   "metadata": {},
   "outputs": [],
   "source": [
    "from getpass import getpass\n",
    "from cognite.experimental import CogniteClient"
   ]
  },
  {
   "cell_type": "code",
   "execution_count": null,
   "metadata": {},
   "outputs": [],
   "source": [
    "api_key = getpass()\n",
    "\n",
    "client = CogniteClient(\n",
    "    api_key=api_key, \n",
    "    project=\"datastudio\",\n",
    "    client_name=\"DSHub\",\n",
    "    base_url=\"https://greenfield.cognitedata.com\"\n",
    ")"
   ]
  },
  {
   "cell_type": "code",
   "execution_count": null,
   "metadata": {},
   "outputs": [],
   "source": [
    "def handle(client, data):\n",
    "    # You must do all imports in here when you deploy from a notebook\n",
    "    import time\n",
    "    assets = client.assets.list()\n",
    "    if \"value\" in data:\n",
    "        print(\"Got value\", data[\"value\"])\n",
    "    \n",
    "    print(f\"Found asset {assets[0].name}\")"
   ]
  },
  {
   "cell_type": "code",
   "execution_count": null,
   "metadata": {},
   "outputs": [],
   "source": [
    "external_id = \"my-test-function\"\n",
    "try:\n",
    "    client.functions.delete(external_id=external_id)\n",
    "except:\n",
    "    pass\n",
    "function = client.functions.create(name = \"My test function\", external_id=external_id, function_handle = handle, api_key=api_key)"
   ]
  },
  {
   "cell_type": "code",
   "execution_count": null,
   "metadata": {},
   "outputs": [],
   "source": [
    "# Refresh this until it is status Ready\n",
    "function = client.functions.retrieve(external_id=external_id)\n",
    "function"
   ]
  },
  {
   "cell_type": "code",
   "execution_count": null,
   "metadata": {},
   "outputs": [],
   "source": [
    "call = function.call( data = {\"value\": 1})\n",
    "call"
   ]
  }
 ],
 "metadata": {
  "kernelspec": {
   "display_name": "Python 3",
   "language": "python",
   "name": "python3"
  },
  "language_info": {
   "codemirror_mode": {
    "name": "ipython",
    "version": 3
   },
   "file_extension": ".py",
   "mimetype": "text/x-python",
   "name": "python",
   "nbconvert_exporter": "python",
   "pygments_lexer": "ipython3",
   "version": "3.7.4"
  }
 },
 "nbformat": 4,
 "nbformat_minor": 2
}
