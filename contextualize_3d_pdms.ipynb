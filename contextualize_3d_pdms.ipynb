{
 "cells": [
  {
   "cell_type": "markdown",
   "metadata": {},
   "source": [
    "# PDMS 3D model contextualization\n",
    "This notebook contains a workflow for contextualizing 3D models made in PDMS which typically works well for oil and gas 3D models. \n",
    "\n",
    "Authors: Alina Astrakova and Anders Hafreager"
   ]
  },
  {
   "cell_type": "code",
   "execution_count": null,
   "metadata": {},
   "outputs": [],
   "source": [
    "import os\n",
    "import json\n",
    "\n",
    "import numpy as np\n",
    "import pandas as pd\n",
    "\n",
    "from getpass import getpass\n",
    "from cognite.client import CogniteClient\n",
    "from cognite.client.data_classes.three_d import ThreeDAssetMapping"
   ]
  },
  {
   "cell_type": "markdown",
   "metadata": {},
   "source": [
    "# Initialize"
   ]
  },
  {
   "cell_type": "code",
   "execution_count": null,
   "metadata": {},
   "outputs": [],
   "source": [
    "project = \"akerbp\"\n",
    "api_key = getpass()"
   ]
  },
  {
   "cell_type": "code",
   "execution_count": null,
   "metadata": {},
   "outputs": [],
   "source": [
    "client = CogniteClient(api_key, project, \"dshub\")"
   ]
  },
  {
   "cell_type": "code",
   "execution_count": null,
   "metadata": {},
   "outputs": [],
   "source": [
    "client.three_d.models.list()"
   ]
  },
  {
   "cell_type": "code",
   "execution_count": null,
   "metadata": {},
   "outputs": [],
   "source": [
    "client.three_d.revisions.list(2974710125783473, published=True) # If you don't find the revision, try published=False"
   ]
  },
  {
   "cell_type": "code",
   "execution_count": null,
   "metadata": {},
   "outputs": [],
   "source": [
    "client.assets.list(root=True)"
   ]
  },
  {
   "cell_type": "code",
   "execution_count": null,
   "metadata": {},
   "outputs": [],
   "source": [
    "# Define 3d model_id and revision\n",
    "model_id = 2974710125783473\n",
    "revision_id = 8462111230533116\n",
    "\n",
    "# Define root_id for assets\n",
    "root_id = 4175743261975966"
   ]
  },
  {
   "cell_type": "markdown",
   "metadata": {},
   "source": [
    "# Download data"
   ]
  },
  {
   "cell_type": "code",
   "execution_count": null,
   "metadata": {},
   "outputs": [],
   "source": [
    "# Download 3D nodes. This may take a while ...\n",
    "threed_nodes = client.three_d.revisions.list_nodes(model_id=model_id, revision_id=revision_id, limit=-1)"
   ]
  },
  {
   "cell_type": "code",
   "execution_count": null,
   "metadata": {},
   "outputs": [],
   "source": [
    "# The 3D node hierarchy is often made of nodes with names on the form \"/21PT1019\"\n",
    "# with children nodes with names \"BRANCH 1 of /21PT1019\".\n",
    "# We only want to map the parent node, so remove all nodes with such names.\n",
    "filtered_nodes = threed_nodes.dump()\n",
    "filtered_nodes = list(filter(lambda x: x[\"name\"] != \"\", nodes_list))\n",
    "print(\"%d non empty node names\" % len(filtered_nodes))\n",
    "filtered_nodes = list(filter(lambda x: \"EQUIPMENT\" not in x[\"name\"], filtered_nodes))\n",
    "print(\"%d node names without EQUIPMENT\" % len(filtered_nodes))\n",
    "filtered_nodes = list(filter(lambda x: \"BRANCH\" not in x[\"name\"], filtered_nodes))\n",
    "print(\"%d node names without BRANCH\" % len(filtered_nodes))\n",
    "filtered_nodes = list(filter(lambda x: \"STRUCTURE\" not in x[\"name\"], filtered_nodes))\n",
    "print(\"%d node names without STRUCTURE\" % len(filtered_nodes))\n",
    "filtered_nodes = list(filter(lambda x: \" OF \" not in x[\"name\"], filtered_nodes))\n",
    "print(\"%d node names without OF \" % len(filtered_nodes))\n",
    "filtered_nodes = list(filter(lambda x: \" of \" not in x[\"name\"], filtered_nodes))\n",
    "print(\"%d node names without of \" % len(filtered_nodes))\n",
    "filtered_nodes = list(filter(lambda x: \"Box\" not in x[\"name\"], filtered_nodes))\n",
    "print(\"%d node names without Box \" % len(filtered_nodes))\n",
    "filtered_nodes = list(filter(lambda x: \"Cylinder\" not in x[\"name\"], filtered_nodes))\n",
    "print(\"%d node names without Cylinder \" % len(filtered_nodes))\n",
    "filtered_nodes = list(filter(lambda x: \"Facet Group\" not in x[\"name\"], filtered_nodes))\n",
    "print(\"%d node names without Facet Group \" % len(filtered_nodes))\n",
    "filtered_nodes = list(filter(lambda x: \"curve\" not in x[\"name\"], filtered_nodes))\n",
    "print(\"%d node names without curve \" % len(filtered_nodes))\n",
    "filtered_nodes = list(filter(lambda x: \"Pyramid\" not in x[\"name\"], filtered_nodes))\n",
    "print(\"%d node names without Pyramid \" % len(filtered_nodes))\n",
    "filtered_nodes = list(filter(lambda x: \"Line\" not in x[\"name\"], filtered_nodes))\n",
    "print(\"%d node names without Line \" % len(filtered_nodes))\n",
    "filtered_node_names = list(map(lambda x: x[\"name\"], filtered_nodes))"
   ]
  },
  {
   "cell_type": "code",
   "execution_count": null,
   "metadata": {},
   "outputs": [],
   "source": [
    "# Download assets\n",
    "df_assets = client.assets.retrieve_subtree(root_id)\n",
    "asset_names = list(map(lambda x: x[\"name\"], df_assets.dump()))"
   ]
  },
  {
   "cell_type": "markdown",
   "metadata": {},
   "source": [
    "# Run the entity matcher"
   ]
  },
  {
   "cell_type": "code",
   "execution_count": null,
   "metadata": {},
   "outputs": [],
   "source": [
    "from cognite.datastudio.entity_matcher import EntityMatcher\n",
    "entity_matcher = EntityMatcher(client)\n",
    "model = entity_matcher.fit(asset_names)\n",
    "matches = model.predict(filtered_node_names)"
   ]
  },
  {
   "cell_type": "code",
   "execution_count": null,
   "metadata": {},
   "outputs": [],
   "source": [
    "# This may require some work of verification. Run \n",
    "threshold = 0.9\n",
    "good_matches = list(filter(lambda x: x[\"score\"] != None and x[\"score\"] > threshold, matches))\n",
    "print(\"Got %d matches with score > %f\" % (len(good_matches), threshold))\n",
    "good_matches = pd.DataFrame.from_records(good_matches)\n",
    "good_matches"
   ]
  },
  {
   "cell_type": "code",
   "execution_count": null,
   "metadata": {},
   "outputs": [],
   "source": [
    "# Create map from name to object for assets and 3D nodes\n",
    "assets_by_name = {}\n",
    "for asset in df_assets.dump():\n",
    "    assets_by_name[asset[\"name\"]] = asset\n",
    "\n",
    "threed_nodes_by_name = {}\n",
    "for node in threed_nodes.dump():\n",
    "    threed_nodes_by_name[node[\"name\"]] = node"
   ]
  },
  {
   "cell_type": "markdown",
   "metadata": {},
   "source": [
    "# Create asset mappings"
   ]
  },
  {
   "cell_type": "code",
   "execution_count": null,
   "metadata": {},
   "outputs": [],
   "source": [
    "asset_mappings = []\n",
    "for match in good_matches.to_records():\n",
    "    asset_id = assets_by_name[match[\"predicted\"]][\"id\"]\n",
    "    node_id = threed_nodes_by_name[match[\"input\"]][\"id\"]\n",
    "    asset_mappings.append(ThreeDAssetMapping(node_id=node_id, asset_id=asset_id))"
   ]
  },
  {
   "cell_type": "code",
   "execution_count": null,
   "metadata": {},
   "outputs": [],
   "source": [
    "# Write mappings to CDF\n",
    "res = client.three_d.asset_mappings.create(model_id=model_id, revision_id=revision_id, asset_mapping=asset_mappings)"
   ]
  }
 ],
 "metadata": {
  "kernelspec": {
   "display_name": "Python 3",
   "language": "python",
   "name": "python3"
  },
  "language_info": {
   "codemirror_mode": {
    "name": "ipython",
    "version": 3
   },
   "file_extension": ".py",
   "mimetype": "text/x-python",
   "name": "python",
   "nbconvert_exporter": "python",
   "pygments_lexer": "ipython3",
   "version": "3.7.4"
  }
 },
 "nbformat": 4,
 "nbformat_minor": 4
}
