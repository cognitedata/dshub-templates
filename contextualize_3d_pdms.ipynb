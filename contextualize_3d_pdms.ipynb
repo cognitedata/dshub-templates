{
 "cells": [
  {
   "cell_type": "markdown",
   "metadata": {},
   "source": [
    "# PDMS 3D model contextualization\n",
    "This notebook contains a workflow for contextualizing 3D models made in PDMS which typically works well for oil and gas 3D models. \n",
    "\n",
    "Authors: Alina Astrakova and Anders Hafreager"
   ]
  },
  {
   "cell_type": "code",
   "execution_count": 1,
   "metadata": {},
   "outputs": [],
   "source": [
    "import pandas as pd\n",
    "\n",
    "from getpass import getpass\n",
    "from cognite.experimental import CogniteClient\n",
    "from cognite.client.data_classes.three_d import ThreeDAssetMapping"
   ]
  },
  {
   "cell_type": "markdown",
   "metadata": {},
   "source": [
    "# Initialize"
   ]
  },
  {
   "cell_type": "code",
   "execution_count": 2,
   "metadata": {},
   "outputs": [
    {
     "name": "stdout",
     "output_type": "stream",
     "text": [
      "········\n"
     ]
    },
    {
     "name": "stderr",
     "output_type": "stream",
     "text": [
      "/Users/sindrest/projects/pdf-pnid-parsing/.venv/lib/python3.7/site-packages/cognite/client/_cognite_client.py:66: UserWarning: You are using version 1.7.0 of the SDK, however version 1.8.1 is available. Upgrade or set the environment variable 'COGNITE_DISABLE_PYPI_VERSION_CHECK' to suppress this warning.\n",
      "  debug=debug,\n"
     ]
    },
    {
     "data": {
      "text/plain": [
       "{\n",
       "    \"user\": \"sindre.stavseng@cognite.com\",\n",
       "    \"project\": \"publicdata\",\n",
       "    \"project_id\": 5977964818434649,\n",
       "    \"logged_in\": true,\n",
       "    \"api_key_id\": 3612386474258642\n",
       "}"
      ]
     },
     "execution_count": 2,
     "metadata": {},
     "output_type": "execute_result"
    }
   ],
   "source": [
    "client = CogniteClient(\n",
    "    api_key=getpass(), \n",
    "    project=\"publicdata\", \n",
    "    client_name=\"dshub\"\n",
    ")\n",
    "client.login.status()"
   ]
  },
  {
   "cell_type": "code",
   "execution_count": 3,
   "metadata": {},
   "outputs": [
    {
     "data": {
      "text/html": [
       "<div>\n",
       "<style scoped>\n",
       "    .dataframe tbody tr th:only-of-type {\n",
       "        vertical-align: middle;\n",
       "    }\n",
       "\n",
       "    .dataframe tbody tr th {\n",
       "        vertical-align: top;\n",
       "    }\n",
       "\n",
       "    .dataframe thead th {\n",
       "        text-align: right;\n",
       "    }\n",
       "</style>\n",
       "<table border=\"1\" class=\"dataframe\">\n",
       "  <thead>\n",
       "    <tr style=\"text-align: right;\">\n",
       "      <th></th>\n",
       "      <th>name</th>\n",
       "      <th>id</th>\n",
       "      <th>created_time</th>\n",
       "      <th>metadata</th>\n",
       "    </tr>\n",
       "  </thead>\n",
       "  <tbody>\n",
       "    <tr>\n",
       "      <th>0</th>\n",
       "      <td>Valhall PH</td>\n",
       "      <td>4715379429968321</td>\n",
       "      <td>1587019342625</td>\n",
       "      <td>{}</td>\n",
       "    </tr>\n",
       "  </tbody>\n",
       "</table>\n",
       "</div>"
      ],
      "text/plain": [
       "[<cognite.client.data_classes.three_d.ThreeDModel object at 0x11c2c84d0>]"
      ]
     },
     "execution_count": 3,
     "metadata": {},
     "output_type": "execute_result"
    }
   ],
   "source": [
    "# Find the 3D model you want to contextualize\n",
    "client.three_d.models.list(limit=-1)"
   ]
  },
  {
   "cell_type": "code",
   "execution_count": 5,
   "metadata": {},
   "outputs": [
    {
     "data": {
      "text/html": [
       "<div>\n",
       "<style scoped>\n",
       "    .dataframe tbody tr th:only-of-type {\n",
       "        vertical-align: middle;\n",
       "    }\n",
       "\n",
       "    .dataframe tbody tr th {\n",
       "        vertical-align: top;\n",
       "    }\n",
       "\n",
       "    .dataframe thead th {\n",
       "        text-align: right;\n",
       "    }\n",
       "</style>\n",
       "<table border=\"1\" class=\"dataframe\">\n",
       "  <thead>\n",
       "    <tr style=\"text-align: right;\">\n",
       "      <th></th>\n",
       "      <th>id</th>\n",
       "      <th>file_id</th>\n",
       "      <th>published</th>\n",
       "      <th>camera</th>\n",
       "      <th>status</th>\n",
       "      <th>metadata</th>\n",
       "      <th>thumbnail_threed_file_id</th>\n",
       "      <th>thumbnail_url</th>\n",
       "      <th>asset_mapping_count</th>\n",
       "      <th>created_time</th>\n",
       "    </tr>\n",
       "  </thead>\n",
       "  <tbody>\n",
       "    <tr>\n",
       "      <th>0</th>\n",
       "      <td>5688854005909501</td>\n",
       "      <td>1339722896977352</td>\n",
       "      <td>True</td>\n",
       "      <td>{'target': [135.94219970703125, 113.1478958129...</td>\n",
       "      <td>Done</td>\n",
       "      <td>{}</td>\n",
       "      <td>7591221097548162</td>\n",
       "      <td>https://api.cognitedata.com/api/v1/projects/pu...</td>\n",
       "      <td>92</td>\n",
       "      <td>1587019381210</td>\n",
       "    </tr>\n",
       "  </tbody>\n",
       "</table>\n",
       "</div>"
      ],
      "text/plain": [
       "[<cognite.client.data_classes.three_d.ThreeDModelRevision object at 0x11c403f10>]"
      ]
     },
     "execution_count": 5,
     "metadata": {},
     "output_type": "execute_result"
    }
   ],
   "source": [
    "# For a given model (and its model id), find the 3D model revision you want to contextualize\n",
    "# If you don't find the revision, try published=False\n",
    "client.three_d.revisions.list(model_id=4715379429968321, published=True) "
   ]
  },
  {
   "cell_type": "code",
   "execution_count": 6,
   "metadata": {},
   "outputs": [
    {
     "data": {
      "text/html": [
       "<div>\n",
       "<style scoped>\n",
       "    .dataframe tbody tr th:only-of-type {\n",
       "        vertical-align: middle;\n",
       "    }\n",
       "\n",
       "    .dataframe tbody tr th {\n",
       "        vertical-align: top;\n",
       "    }\n",
       "\n",
       "    .dataframe thead th {\n",
       "        text-align: right;\n",
       "    }\n",
       "</style>\n",
       "<table border=\"1\" class=\"dataframe\">\n",
       "  <thead>\n",
       "    <tr style=\"text-align: right;\">\n",
       "      <th></th>\n",
       "      <th>external_id</th>\n",
       "      <th>name</th>\n",
       "      <th>metadata</th>\n",
       "      <th>id</th>\n",
       "      <th>created_time</th>\n",
       "      <th>last_updated_time</th>\n",
       "      <th>root_id</th>\n",
       "      <th>description</th>\n",
       "    </tr>\n",
       "  </thead>\n",
       "  <tbody>\n",
       "    <tr>\n",
       "      <th>0</th>\n",
       "      <td>houston.00. Support systems.Reverse osmosis</td>\n",
       "      <td>Reverse osmosis</td>\n",
       "      <td>{'_replicatedInternalId': '1536954437306151', ...</td>\n",
       "      <td>5072327905985771</td>\n",
       "      <td>1592572207249</td>\n",
       "      <td>1592578295754</td>\n",
       "      <td>5072327905985771</td>\n",
       "      <td>NaN</td>\n",
       "    </tr>\n",
       "    <tr>\n",
       "      <th>1</th>\n",
       "      <td>NaN</td>\n",
       "      <td>Aker BP</td>\n",
       "      <td>{}</td>\n",
       "      <td>6687602007296940</td>\n",
       "      <td>0</td>\n",
       "      <td>0</td>\n",
       "      <td>6687602007296940</td>\n",
       "      <td>Aker BP</td>\n",
       "    </tr>\n",
       "  </tbody>\n",
       "</table>\n",
       "</div>"
      ],
      "text/plain": [
       "[<cognite.client.data_classes.assets.Asset object at 0x11c40ab90>, <cognite.client.data_classes.assets.Asset object at 0x11c40a9d0>]"
      ]
     },
     "execution_count": 6,
     "metadata": {},
     "output_type": "execute_result"
    }
   ],
   "source": [
    "# List all root assets to find the root asset you want to map to\n",
    "client.assets.list(root=True, limit=-1)"
   ]
  },
  {
   "cell_type": "code",
   "execution_count": 7,
   "metadata": {},
   "outputs": [],
   "source": [
    "# Define 3d model_id and revision\n",
    "model_id = 4715379429968321\n",
    "revision_id = 5688854005909501\n",
    "\n",
    "# Define root_id for assets\n",
    "root_id = 6687602007296940"
   ]
  },
  {
   "cell_type": "markdown",
   "metadata": {},
   "source": [
    "# Download data"
   ]
  },
  {
   "cell_type": "code",
   "execution_count": 8,
   "metadata": {},
   "outputs": [],
   "source": [
    "# Download 3D nodes. This may take a while ...\n",
    "threed_nodes = client.three_d.revisions.list_nodes(model_id=model_id, revision_id=revision_id, limit=-1)"
   ]
  },
  {
   "cell_type": "code",
   "execution_count": 12,
   "metadata": {},
   "outputs": [
    {
     "name": "stdout",
     "output_type": "stream",
     "text": [
      "739350 non empty node names\n",
      "651467 node names without EQUIPMENT\n",
      "547636 node names without BRANCH\n",
      "428095 node names without STRUCTURE\n",
      "428095 node names without OF \n",
      "162679 node names without of \n",
      "162679 node names without Box \n",
      "162678 node names without Cylinder \n",
      "162678 node names without Facet Group \n",
      "162678 node names without curve \n",
      "162678 node names without Pyramid \n",
      "162678 node names without Line \n"
     ]
    }
   ],
   "source": [
    "# The 3D node hierarchy is often made of nodes with names on the form \"/21PT1019\"\n",
    "# with children nodes with names \"BRANCH 1 of /21PT1019\".\n",
    "# We only want to map the parent node, so remove all nodes with such names.\n",
    "nodes_list = threed_nodes.dump()\n",
    "filtered_nodes = list(filter(lambda x: x[\"name\"] != \"\", nodes_list))\n",
    "print(\"%d non empty node names\" % len(filtered_nodes))\n",
    "filtered_nodes = list(filter(lambda x: \"EQUIPMENT\" not in x[\"name\"], filtered_nodes))\n",
    "print(\"%d node names without EQUIPMENT\" % len(filtered_nodes))\n",
    "filtered_nodes = list(filter(lambda x: \"BRANCH\" not in x[\"name\"], filtered_nodes))\n",
    "print(\"%d node names without BRANCH\" % len(filtered_nodes))\n",
    "filtered_nodes = list(filter(lambda x: \"STRUCTURE\" not in x[\"name\"], filtered_nodes))\n",
    "print(\"%d node names without STRUCTURE\" % len(filtered_nodes))\n",
    "filtered_nodes = list(filter(lambda x: \" OF \" not in x[\"name\"], filtered_nodes))\n",
    "print(\"%d node names without OF \" % len(filtered_nodes))\n",
    "filtered_nodes = list(filter(lambda x: \" of \" not in x[\"name\"], filtered_nodes))\n",
    "print(\"%d node names without of \" % len(filtered_nodes))\n",
    "filtered_nodes = list(filter(lambda x: \"Box\" not in x[\"name\"], filtered_nodes))\n",
    "print(\"%d node names without Box \" % len(filtered_nodes))\n",
    "filtered_nodes = list(filter(lambda x: \"Cylinder\" not in x[\"name\"], filtered_nodes))\n",
    "print(\"%d node names without Cylinder \" % len(filtered_nodes))\n",
    "filtered_nodes = list(filter(lambda x: \"Facet Group\" not in x[\"name\"], filtered_nodes))\n",
    "print(\"%d node names without Facet Group \" % len(filtered_nodes))\n",
    "filtered_nodes = list(filter(lambda x: \"curve\" not in x[\"name\"], filtered_nodes))\n",
    "print(\"%d node names without curve \" % len(filtered_nodes))\n",
    "filtered_nodes = list(filter(lambda x: \"Pyramid\" not in x[\"name\"], filtered_nodes))\n",
    "print(\"%d node names without Pyramid \" % len(filtered_nodes))\n",
    "filtered_nodes = list(filter(lambda x: \"Line\" not in x[\"name\"], filtered_nodes))\n",
    "print(\"%d node names without Line \" % len(filtered_nodes))\n",
    "filtered_node_names = list(map(lambda x: {\"name\": x[\"name\"], \"id\": x[\"id\"]}, filtered_nodes))"
   ]
  },
  {
   "cell_type": "code",
   "execution_count": 13,
   "metadata": {},
   "outputs": [
    {
     "name": "stdout",
     "output_type": "stream",
     "text": [
      "Downloaded 1106 assets\n"
     ]
    }
   ],
   "source": [
    "# Download assets\n",
    "assets = client.assets.retrieve_subtree(root_id)\n",
    "asset_names_ids = [{\"name\": x.name, \"id\": x.id} for x in assets]\n",
    "print(f\"Downloaded {len(asset_names_ids)} assets\")"
   ]
  },
  {
   "cell_type": "markdown",
   "metadata": {},
   "source": [
    "# Run the entity matcher"
   ]
  },
  {
   "cell_type": "code",
   "execution_count": 19,
   "metadata": {},
   "outputs": [],
   "source": [
    "# Create an entity matching model\n",
    "model = client.entity_matching.fit_ml(match_from=filtered_node_names, match_to=asset_names_ids)"
   ]
  },
  {
   "cell_type": "code",
   "execution_count": 20,
   "metadata": {},
   "outputs": [],
   "source": [
    "# Get predictions from model\n",
    "job = model.predict_ml()"
   ]
  },
  {
   "cell_type": "code",
   "execution_count": 24,
   "metadata": {},
   "outputs": [
    {
     "name": "stdout",
     "output_type": "stream",
     "text": [
      "Job is Completed, last updated at 1597649956544\n"
     ]
    }
   ],
   "source": [
    "# Check predictions job status. The job will take a few minutes to complete\n",
    "print(f\"Job is {job.update_status()}, last updated at {job.status_timestamp}\")"
   ]
  },
  {
   "cell_type": "code",
   "execution_count": 25,
   "metadata": {},
   "outputs": [],
   "source": [
    "# When the job is finished, get the results\n",
    "matches = job.result[\"items\"]"
   ]
  },
  {
   "cell_type": "code",
   "execution_count": 28,
   "metadata": {},
   "outputs": [
    {
     "name": "stdout",
     "output_type": "stream",
     "text": [
      "Got 140 matches with score > 0.900000\n"
     ]
    },
    {
     "data": {
      "text/html": [
       "<div>\n",
       "<style scoped>\n",
       "    .dataframe tbody tr th:only-of-type {\n",
       "        vertical-align: middle;\n",
       "    }\n",
       "\n",
       "    .dataframe tbody tr th {\n",
       "        vertical-align: top;\n",
       "    }\n",
       "\n",
       "    .dataframe thead th {\n",
       "        text-align: right;\n",
       "    }\n",
       "</style>\n",
       "<table border=\"1\" class=\"dataframe\">\n",
       "  <thead>\n",
       "    <tr style=\"text-align: right;\">\n",
       "      <th></th>\n",
       "      <th>0</th>\n",
       "      <th>1</th>\n",
       "      <th>2</th>\n",
       "    </tr>\n",
       "  </thead>\n",
       "  <tbody>\n",
       "    <tr>\n",
       "      <th>0</th>\n",
       "      <td>/COPY_OF_TIE_IN_23</td>\n",
       "      <td>23</td>\n",
       "      <td>1.0</td>\n",
       "    </tr>\n",
       "    <tr>\n",
       "      <th>1</th>\n",
       "      <td>/OE150-WELDING-BRACKET-23</td>\n",
       "      <td>23</td>\n",
       "      <td>1.0</td>\n",
       "    </tr>\n",
       "    <tr>\n",
       "      <th>2</th>\n",
       "      <td>/23-GK-9107A-A01</td>\n",
       "      <td>23-GK-9107A-A01</td>\n",
       "      <td>1.0</td>\n",
       "    </tr>\n",
       "    <tr>\n",
       "      <th>3</th>\n",
       "      <td>/23-GK-9107A-A01/CS</td>\n",
       "      <td>23-GK-9107A-A01</td>\n",
       "      <td>1.0</td>\n",
       "    </tr>\n",
       "    <tr>\n",
       "      <th>4</th>\n",
       "      <td>/23-GK-9107A-A01/SUPP</td>\n",
       "      <td>23-GK-9107A-A01</td>\n",
       "      <td>1.0</td>\n",
       "    </tr>\n",
       "    <tr>\n",
       "      <th>...</th>\n",
       "      <td>...</td>\n",
       "      <td>...</td>\n",
       "      <td>...</td>\n",
       "    </tr>\n",
       "    <tr>\n",
       "      <th>135</th>\n",
       "      <td>/JP769.Structure.Profil_23</td>\n",
       "      <td>23</td>\n",
       "      <td>1.0</td>\n",
       "    </tr>\n",
       "    <tr>\n",
       "      <th>136</th>\n",
       "      <td>/Copy-of-Product__23</td>\n",
       "      <td>23</td>\n",
       "      <td>1.0</td>\n",
       "    </tr>\n",
       "    <tr>\n",
       "      <th>137</th>\n",
       "      <td>TMP-T23-SCAN_MM.nwd</td>\n",
       "      <td>23</td>\n",
       "      <td>1.0</td>\n",
       "    </tr>\n",
       "    <tr>\n",
       "      <th>138</th>\n",
       "      <td>/T23-SCAN_MM</td>\n",
       "      <td>23</td>\n",
       "      <td>1.0</td>\n",
       "    </tr>\n",
       "    <tr>\n",
       "      <th>139</th>\n",
       "      <td>/SC-085PIPING/4539_23</td>\n",
       "      <td>23</td>\n",
       "      <td>1.0</td>\n",
       "    </tr>\n",
       "  </tbody>\n",
       "</table>\n",
       "<p>140 rows × 3 columns</p>\n",
       "</div>"
      ],
      "text/plain": [
       "                              0                1    2\n",
       "0            /COPY_OF_TIE_IN_23               23  1.0\n",
       "1     /OE150-WELDING-BRACKET-23               23  1.0\n",
       "2              /23-GK-9107A-A01  23-GK-9107A-A01  1.0\n",
       "3           /23-GK-9107A-A01/CS  23-GK-9107A-A01  1.0\n",
       "4         /23-GK-9107A-A01/SUPP  23-GK-9107A-A01  1.0\n",
       "..                          ...              ...  ...\n",
       "135  /JP769.Structure.Profil_23               23  1.0\n",
       "136        /Copy-of-Product__23               23  1.0\n",
       "137         TMP-T23-SCAN_MM.nwd               23  1.0\n",
       "138                /T23-SCAN_MM               23  1.0\n",
       "139       /SC-085PIPING/4539_23               23  1.0\n",
       "\n",
       "[140 rows x 3 columns]"
      ]
     },
     "execution_count": 28,
     "metadata": {},
     "output_type": "execute_result"
    }
   ],
   "source": [
    "# This may require some work of verification. Set a threshold and run \n",
    "threshold = 0.9\n",
    "good_matches = [m for m in matches if (len(m[\"matches\"]) > 0 and m[\"matches\"][0][\"score\"] > threshold)]\n",
    "print(\"Got %d matches with score > %f\" % (len(good_matches), threshold))\n",
    "pd.DataFrame.from_records([(m[\"matchFrom\"][\"name\"], m[\"matches\"][0][\"matchTo\"][\"name\"], m[\"matches\"][0][\"score\"]) for m in good_matches])"
   ]
  },
  {
   "cell_type": "markdown",
   "metadata": {},
   "source": [
    "# Create asset mappings"
   ]
  },
  {
   "cell_type": "code",
   "execution_count": 31,
   "metadata": {},
   "outputs": [],
   "source": [
    "asset_mappings = []\n",
    "for match in good_matches:\n",
    "    asset_id = match[\"matches\"][0][\"matchTo\"][\"id\"]\n",
    "    node_id = match[\"matchFrom\"][\"id\"]\n",
    "    asset_mappings.append(ThreeDAssetMapping(node_id=node_id, asset_id=asset_id))"
   ]
  },
  {
   "cell_type": "code",
   "execution_count": null,
   "metadata": {},
   "outputs": [],
   "source": [
    "# Write mappings to CDF\n",
    "res = client.three_d.asset_mappings.create(model_id=model_id, revision_id=revision_id, asset_mapping=asset_mappings)"
   ]
  },
  {
   "cell_type": "code",
   "execution_count": null,
   "metadata": {},
   "outputs": [],
   "source": [
    "# Delete all existing mappings (if you want to redo it)\n",
    "res = client.three_d.asset_mappings.list(model_id=model_id, revision_id=revision_id, limit=-1)\n",
    "existing_mappings = list(map(lambda x: ThreeDAssetMapping(node_id=x.node_id, asset_id=x.asset_id), res))\n",
    "res = client.three_d.asset_mappings.delete(model_id=model_id, revision_id=revision_id, asset_mapping=existing_mappings)"
   ]
  }
 ],
 "metadata": {
  "kernelspec": {
   "display_name": "Python 3",
   "language": "python",
   "name": "python3"
  },
  "language_info": {
   "codemirror_mode": {
    "name": "ipython",
    "version": 3
   },
   "file_extension": ".py",
   "mimetype": "text/x-python",
   "name": "python",
   "nbconvert_exporter": "python",
   "pygments_lexer": "ipython3",
   "version": "3.7.7"
  }
 },
 "nbformat": 4,
 "nbformat_minor": 4
}
