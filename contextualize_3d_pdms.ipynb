{
 "cells": [
  {
   "cell_type": "markdown",
   "metadata": {},
   "source": [
    "# PDMS 3D model contextualization\n",
    "This notebook contains a workflow for contextualizing 3D models made in PDMS which typically works well for oil and gas 3D models. \n",
    "\n",
    "Authors: Alina Astrakova and Anders Hafreager"
   ]
  },
  {
   "cell_type": "code",
   "execution_count": null,
   "metadata": {},
   "outputs": [],
   "source": [
    "import pandas as pd\n",
    "\n",
    "from getpass import getpass\n",
    "from cognite.experimental import CogniteClient\n",
    "from cognite.client.data_classes.three_d import ThreeDAssetMapping"
   ]
  },
  {
   "cell_type": "markdown",
   "metadata": {},
   "source": [
    "# Initialize"
   ]
  },
  {
   "cell_type": "code",
   "execution_count": null,
   "metadata": {},
   "outputs": [],
   "source": [
    "client = CogniteClient(\n",
    "    api_key=getpass(), \n",
    "    project=\"publicdata\", \n",
    "    client_name=\"dshub\"\n",
    ")\n",
    "client.login.status()"
   ]
  },
  {
   "cell_type": "code",
   "execution_count": null,
   "metadata": {},
   "outputs": [],
   "source": [
    "# Find the 3D model you want to contextualize\n",
    "client.three_d.models.list(limit=-1)"
   ]
  },
  {
   "cell_type": "code",
   "execution_count": null,
   "metadata": {},
   "outputs": [],
   "source": [
    "# For a given model (and its model id), find the 3D model revision you want to contextualize\n",
    "# If you don't find the revision, try published=False\n",
    "client.three_d.revisions.list(model_id=4715379429968321, published=True) "
   ]
  },
  {
   "cell_type": "code",
   "execution_count": null,
   "metadata": {},
   "outputs": [],
   "source": [
    "# List all root assets to find the root asset you want to map to\n",
    "client.assets.list(root=True, limit=-1)"
   ]
  },
  {
   "cell_type": "code",
   "execution_count": null,
   "metadata": {},
   "outputs": [],
   "source": [
    "# Define 3d model_id and revision\n",
    "model_id = 4715379429968321\n",
    "revision_id = 5688854005909501\n",
    "\n",
    "# Define root_id for assets\n",
    "root_id = 6687602007296940"
   ]
  },
  {
   "cell_type": "markdown",
   "metadata": {},
   "source": [
    "# Download data"
   ]
  },
  {
   "cell_type": "code",
   "execution_count": null,
   "metadata": {},
   "outputs": [],
   "source": [
    "# Download 3D nodes. This may take a while ...\n",
    "threed_nodes = client.three_d.revisions.list_nodes(model_id=model_id, revision_id=revision_id, limit=-1)"
   ]
  },
  {
   "cell_type": "code",
   "execution_count": null,
   "metadata": {},
   "outputs": [],
   "source": [
    "# The 3D node hierarchy is often made of nodes with names on the form \"/21PT1019\"\n",
    "# with children nodes with names \"BRANCH 1 of /21PT1019\".\n",
    "# We only want to map the parent node, so remove all nodes with such names.\n",
    "nodes_list = threed_nodes.dump()\n",
    "filtered_nodes = list(filter(lambda x: x[\"name\"] != \"\", nodes_list))\n",
    "print(\"%d non empty node names\" % len(filtered_nodes))\n",
    "filtered_nodes = list(filter(lambda x: \"EQUIPMENT\" not in x[\"name\"], filtered_nodes))\n",
    "print(\"%d node names without EQUIPMENT\" % len(filtered_nodes))\n",
    "filtered_nodes = list(filter(lambda x: \"BRANCH\" not in x[\"name\"], filtered_nodes))\n",
    "print(\"%d node names without BRANCH\" % len(filtered_nodes))\n",
    "filtered_nodes = list(filter(lambda x: \"STRUCTURE\" not in x[\"name\"], filtered_nodes))\n",
    "print(\"%d node names without STRUCTURE\" % len(filtered_nodes))\n",
    "filtered_nodes = list(filter(lambda x: \" OF \" not in x[\"name\"], filtered_nodes))\n",
    "print(\"%d node names without OF \" % len(filtered_nodes))\n",
    "filtered_nodes = list(filter(lambda x: \" of \" not in x[\"name\"], filtered_nodes))\n",
    "print(\"%d node names without of \" % len(filtered_nodes))\n",
    "filtered_nodes = list(filter(lambda x: \"Box\" not in x[\"name\"], filtered_nodes))\n",
    "print(\"%d node names without Box \" % len(filtered_nodes))\n",
    "filtered_nodes = list(filter(lambda x: \"Cylinder\" not in x[\"name\"], filtered_nodes))\n",
    "print(\"%d node names without Cylinder \" % len(filtered_nodes))\n",
    "filtered_nodes = list(filter(lambda x: \"Facet Group\" not in x[\"name\"], filtered_nodes))\n",
    "print(\"%d node names without Facet Group \" % len(filtered_nodes))\n",
    "filtered_nodes = list(filter(lambda x: \"curve\" not in x[\"name\"], filtered_nodes))\n",
    "print(\"%d node names without curve \" % len(filtered_nodes))\n",
    "filtered_nodes = list(filter(lambda x: \"Pyramid\" not in x[\"name\"], filtered_nodes))\n",
    "print(\"%d node names without Pyramid \" % len(filtered_nodes))\n",
    "filtered_nodes = list(filter(lambda x: \"Line\" not in x[\"name\"], filtered_nodes))\n",
    "print(\"%d node names without Line \" % len(filtered_nodes))\n",
    "filtered_node_names = list(map(lambda x: {\"name\": x[\"name\"], \"id\": x[\"id\"]}, filtered_nodes))"
   ]
  },
  {
   "cell_type": "code",
   "execution_count": null,
   "metadata": {},
   "outputs": [],
   "source": [
    "# Download assets\n",
    "assets = client.assets.retrieve_subtree(root_id)\n",
    "asset_names_ids = [{\"name\": x.name, \"id\": x.id} for x in assets]\n",
    "print(f\"Downloaded {len(asset_names_ids)} assets\")"
   ]
  },
  {
   "cell_type": "markdown",
   "metadata": {},
   "source": [
    "# Run the entity matcher"
   ]
  },
  {
   "cell_type": "code",
   "execution_count": null,
   "metadata": {},
   "outputs": [],
   "source": [
    "# Create an entity matching model\n",
    "model = client.entity_matching.fit(match_from=filtered_node_names, match_to=asset_names_ids)"
   ]
  },
  {
   "cell_type": "code",
   "execution_count": null,
   "metadata": {},
   "outputs": [],
   "source": [
    "# Get predictions from model\n",
    "job = model.predict()"
   ]
  },
  {
   "cell_type": "code",
   "execution_count": null,
   "metadata": {},
   "outputs": [],
   "source": [
    "# Check predictions job status. The job will take a few minutes to complete\n",
    "print(f\"Job is {job.update_status()}, last updated at {job.status_timestamp}\")"
   ]
  },
  {
   "cell_type": "code",
   "execution_count": null,
   "metadata": {},
   "outputs": [],
   "source": [
    "# When the job is finished, get the results\n",
    "matches = job.result[\"items\"]"
   ]
  },
  {
   "cell_type": "code",
   "execution_count": null,
   "metadata": {},
   "outputs": [],
   "source": [
    "# This may require some work of verification. Set a threshold and run \n",
    "threshold = 0.9\n",
    "good_matches = [m for m in matches if (len(m[\"matches\"]) > 0 and m[\"matches\"][0][\"score\"] > threshold)]\n",
    "print(\"Got %d matches with score > %f\" % (len(good_matches), threshold))\n",
    "pd.DataFrame.from_records([(m[\"matchFrom\"][\"name\"], m[\"matches\"][0][\"matchTo\"][\"name\"], m[\"matches\"][0][\"score\"]) for m in good_matches])"
   ]
  },
  {
   "cell_type": "markdown",
   "metadata": {},
   "source": [
    "# Create asset mappings"
   ]
  },
  {
   "cell_type": "code",
   "execution_count": null,
   "metadata": {},
   "outputs": [],
   "source": [
    "asset_mappings = []\n",
    "for match in good_matches:\n",
    "    asset_id = match[\"matches\"][0][\"matchTo\"][\"id\"]\n",
    "    node_id = match[\"matchFrom\"][\"id\"]\n",
    "    asset_mappings.append(ThreeDAssetMapping(node_id=node_id, asset_id=asset_id))"
   ]
  },
  {
   "cell_type": "code",
   "execution_count": null,
   "metadata": {},
   "outputs": [],
   "source": [
    "# Write mappings to CDF\n",
    "res = client.three_d.asset_mappings.create(model_id=model_id, revision_id=revision_id, asset_mapping=asset_mappings)"
   ]
  },
  {
   "cell_type": "markdown",
   "metadata": {},
   "source": [
    "# Delete asset mappings"
   ]
  },
  {
   "cell_type": "code",
   "execution_count": null,
   "metadata": {},
   "outputs": [],
   "source": [
    "# Uncomment the last line to delete all existing mappings (if you want to create new ones)\n",
    "# WARNING: This cannot be undone\n",
    "res = client.three_d.asset_mappings.list(model_id=model_id, revision_id=revision_id, limit=-1)\n",
    "existing_mappings = list(map(lambda x: ThreeDAssetMapping(node_id=x.node_id, asset_id=x.asset_id), res))\n",
    "#res = client.three_d.asset_mappings.delete(model_id=model_id, revision_id=revision_id, asset_mapping=existing_mappings)"
   ]
  }
 ],
 "metadata": {
  "kernelspec": {
   "display_name": "Python 3",
   "language": "python",
   "name": "python3"
  },
  "language_info": {
   "codemirror_mode": {
    "name": "ipython",
    "version": 3
   },
   "file_extension": ".py",
   "mimetype": "text/x-python",
   "name": "python",
   "nbconvert_exporter": "python",
   "pygments_lexer": "ipython3",
   "version": "3.7.7"
  }
 },
 "nbformat": 4,
 "nbformat_minor": 4
}
