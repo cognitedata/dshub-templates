{
 "cells": [
  {
   "cell_type": "code",
   "execution_count": null,
   "metadata": {},
   "outputs": [],
   "source": [
    "import os\n",
    "import getpass\n",
    "import urllib\n",
    "from cognite.experimental import CogniteClient \n",
    "from cognite.client.data_classes.files import FileMetadataUpdate"
   ]
  },
  {
   "cell_type": "code",
   "execution_count": null,
   "metadata": {
    "scrolled": true
   },
   "outputs": [],
   "source": [
    "project=\"project\"\n",
    "api_key = os.getenv(\"COGNITE_API_KEY\")\n",
    "\n",
    "client = CogniteClient(api_key=getpass(), \n",
    "                       client_name=\"dshub\", \n",
    "                       project=project)\n",
    "client.login.status()"
   ]
  },
  {
   "cell_type": "code",
   "execution_count": null,
   "metadata": {},
   "outputs": [],
   "source": [
    "# Get assets\n",
    "assets = client.assets.list(limit=-1)"
   ]
  },
  {
   "cell_type": "code",
   "execution_count": null,
   "metadata": {},
   "outputs": [],
   "source": [
    "# Map asset names to a list with asset_ids with this name\n",
    "asset_id_dict = dict()\n",
    "for asset in assets:\n",
    "    name = asset.name\n",
    "    if name not in asset_id_dict:\n",
    "        asset_id_dict[name] = [asset.id]\n",
    "    else:\n",
    "        asset_id_dict[name].append(int(asset.id))"
   ]
  },
  {
   "cell_type": "code",
   "execution_count": null,
   "metadata": {},
   "outputs": [],
   "source": [
    "# Get files with source\n",
    "source = \"Pearl: ASU 1 Unit 12100 PEFS\"\n",
    "files = client.files.list(source=source, limit=-1)"
   ]
  },
  {
   "cell_type": "code",
   "execution_count": null,
   "metadata": {},
   "outputs": [],
   "source": [
    "# Create entites based on asset names\n",
    "entities = [asset.name for asset in assets]"
   ]
  },
  {
   "cell_type": "code",
   "execution_count": null,
   "metadata": {},
   "outputs": [],
   "source": [
    "# Parse files, create SVGs with the found assets, contextualize the original files in CDF, upload the new SVGs to CDF\n",
    "\n",
    "file_metadata_updates = list()\n",
    "\n",
    "# add source for the new SVGs\n",
    "svg_source=\"contextualization\"\n",
    "\n",
    "# add mime_type\n",
    "svg_mime_type = \"image/svg+xml\"\n",
    "\n",
    "# overwrite the svg file if already uploaded\n",
    "svg_overwrite = True\n",
    "\n",
    "for file in files:\n",
    "    print(f\"Parse and convert P&ID to SVG, input file: {file.name}\")\n",
    "\n",
    "    # run pnid_parse job\n",
    "    job = await client.pnid_parsing.parse(file_id=file.id, entities=entities, partial_match=True)\n",
    "    \n",
    "    # store the svg url with the highlighted detected entities\n",
    "    svg_url = job.args[\"svg_url\"]\n",
    "    \n",
    "    # store the results with the entities found and the corresponding bounding boxes \n",
    "    results = job.result\n",
    "\n",
    "    # get only entities from the results\n",
    "    entities_found = [result[\"text\"] for result in results]\n",
    "    if not entities_found:\n",
    "        # skip to the next file if no assets are found\n",
    "        continue\n",
    "    \n",
    "    # remove duplicate entities\n",
    "    entities_found = list(set(entities_found))\n",
    "    \n",
    "    # make a list of asset_ids based on the found entities \n",
    "    asset_ids_found = set()\n",
    "    for entity in entities_found:\n",
    "        # asset name could correspond to several asset_ids\n",
    "        asset_ids_found.update(asset_id_dict[entity])\n",
    "        \n",
    "    asset_names = ','.join(map(str, entities_found))\n",
    "    print(f\"\\tFound assets: {asset_names}\")\n",
    "    \n",
    "    # update metadata for the original file\n",
    "    file_metadata_update = FileMetadataUpdate(id=file.id).asset_ids.set(list(asset_ids_found))\n",
    "    file_metadata_updates.append(file_metadata_update)\n",
    "    \n",
    "    # add metadata to the new svg, e.g.,\n",
    "    svg_metadata = {\"OriginalSource\": file.source}\n",
    "    \n",
    "    # keep the name for the file, replacing the extention\n",
    "    name_svg = os.path.splitext(file.name)[0] + \".svg\"\n",
    "    \n",
    "    # give a meaningful external_id\n",
    "    external_id_svg = file.external_id + \"+svg\"\n",
    "    \n",
    "    # download the svg file from the url\n",
    "    urllib.request.urlretrieve (svg_url, name_svg)\n",
    "    \n",
    "    # upload svg with the same asset_ids\n",
    "    client.files.upload(name_svg, \n",
    "                        external_id=external_id_svg,\n",
    "                        asset_ids=asset_ids_found, \n",
    "                        mime_type=svg_mime_type,\n",
    "                        source=svg_source, \n",
    "                        overwrite=svg_overwrite,\n",
    "                        metadata=svg_metadata)"
   ]
  },
  {
   "cell_type": "code",
   "execution_count": null,
   "metadata": {},
   "outputs": [],
   "source": [
    "# Write updates for existing files\n",
    "client.files.update(file_metadata_updates)"
   ]
  },
  {
   "cell_type": "code",
   "execution_count": null,
   "metadata": {},
   "outputs": [],
   "source": []
  },
  {
   "cell_type": "code",
   "execution_count": null,
   "metadata": {},
   "outputs": [],
   "source": []
  },
  {
   "cell_type": "code",
   "execution_count": null,
   "metadata": {},
   "outputs": [],
   "source": []
  }
 ],
 "metadata": {
  "kernelspec": {
   "display_name": "Python 3",
   "language": "python",
   "name": "python3"
  },
  "language_info": {
   "codemirror_mode": {
    "name": "ipython",
    "version": 3
   },
   "file_extension": ".py",
   "mimetype": "text/x-python",
   "name": "python",
   "nbconvert_exporter": "python",
   "pygments_lexer": "ipython3",
   "version": "3.7.6"
  }
 },
 "nbformat": 4,
 "nbformat_minor": 4
}
